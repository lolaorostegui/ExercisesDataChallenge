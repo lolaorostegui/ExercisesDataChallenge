{
  "nbformat": 4,
  "nbformat_minor": 0,
  "metadata": {
    "colab": {
      "name": "DataChallenge-Team10.ipynb",
      "provenance": [],
      "authorship_tag": "ABX9TyPGIwaUJOa9/y1lcdGxNkD1",
      "include_colab_link": true
    },
    "kernelspec": {
      "name": "python3",
      "display_name": "Python 3"
    }
  },
  "cells": [
    {
      "cell_type": "markdown",
      "metadata": {
        "id": "view-in-github",
        "colab_type": "text"
      },
      "source": [
        "<a href=\"https://colab.research.google.com/github/lolaorostegui/ExercisesDataChallenge/blob/main/DataChallenge_Team10.ipynb\" target=\"_parent\"><img src=\"https://colab.research.google.com/assets/colab-badge.svg\" alt=\"Open In Colab\"/></a>"
      ]
    },
    {
      "cell_type": "markdown",
      "metadata": {
        "id": "LPbglXE6nPML"
      },
      "source": [
        "# Introduction to python"
      ]
    },
    {
      "cell_type": "markdown",
      "metadata": {
        "id": "9v3Bt_iEoa26"
      },
      "source": [
        "## Python Basics"
      ]
    },
    {
      "cell_type": "markdown",
      "metadata": {
        "id": "IF13gn1nogTB"
      },
      "source": [
        "## Python Lists"
      ]
    },
    {
      "cell_type": "markdown",
      "metadata": {
        "id": "LW4W6zAooqt8"
      },
      "source": [
        "## Functions and packages"
      ]
    },
    {
      "cell_type": "markdown",
      "metadata": {
        "id": "YI9ZI7Yyo2sl"
      },
      "source": [
        "## Numpy"
      ]
    },
    {
      "cell_type": "markdown",
      "metadata": {
        "id": "botLr6YUneys"
      },
      "source": [
        "# Intermediate Python"
      ]
    },
    {
      "cell_type": "code",
      "metadata": {
        "id": "zuZotVldoRQZ"
      },
      "source": [
        ""
      ],
      "execution_count": null,
      "outputs": []
    },
    {
      "cell_type": "markdown",
      "metadata": {
        "id": "p4c7wHTunorz"
      },
      "source": [
        "# Data manipulation with Pandas"
      ]
    },
    {
      "cell_type": "markdown",
      "metadata": {
        "id": "u62ZG4wfnwXz"
      },
      "source": [
        "# Joining data with Pandas"
      ]
    },
    {
      "cell_type": "markdown",
      "metadata": {
        "id": "FECUkhrbn4nU"
      },
      "source": [
        "# Data visualization with Matplotlib"
      ]
    },
    {
      "cell_type": "markdown",
      "metadata": {
        "id": "0qWjmfzkoAix"
      },
      "source": [
        "# Data visualization with Seaborn"
      ]
    }
  ]
}